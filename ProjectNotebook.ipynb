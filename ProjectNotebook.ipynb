{
 "cells": [
  {
   "cell_type": "markdown",
   "metadata": {},
   "source": [
    "# Project Description"
   ]
  },
  {
   "cell_type": "markdown",
   "metadata": {},
   "source": [
    "Having picked the \"Choose your own Adventure\" route for my final project, I decided to make a multiple choice quiz. I'm a person who loves to quote movies, they could be my favorite lines, or the lines are just so fitting in a given situation that they must be said. So, with that in mind, I decided to make a short 10 question quiz that asks you to fill in the missing blank on the quote given. But wait, there's more! Are you feeling up for a bonus round? If you'd like, you can opt in and take the bonus round. But time is of the essence, as you only have 30 seconds to answer the next 10 questions!\n",
    "\n",
    "To create my project, I made two classes, one named FirstQuiz, the other called BonusTime. Both of which need to be imported at the very beginning. While in this notebook and calling on these classes, I was then able to insert my lists of questions as the \"prompt\" input, and the correct answers being placed in the \"answer\" input.\n",
    "\n",
    "Next, I then import my functions that I made: start_quiz, continue_on, start_bonus, and time_is_up.\n",
    " - The function \"start_quiz\" will run the ten questions in questions while using a for loop, and with every correct question answered, it will add 1 to your score. At the end of this loop your final score is printed out.\n",
    " - After \"start_quiz\", there is continue_on, which requires user input. If the user would like to continue on to the Bonus Round they must input 'start'. If they wish to exit the quiz, they can just input 'stop'.\n",
    " - If user inputs 'start', the next function, \"start_bonus\", is called. \"Start_bonus\", will run through the next ten questions in questions_2 while using a for loop. Again, with every correct question answered, it will add 1 to your score for the Bonus Quiz.\n",
    " - While in the \"start_bonus\" function, the \"time_is_up\" function will also be called. This starts a 30 second timer. If you are unable to complete the Bonus Quiz in 30 seconds, the quiz will stop generating the remaining questions, and present you with your final score.\n",
    "\n",
    "I made two lists, one called quiz_prompts, and the other called bonus_prompts. Both of these lists had 10 questions followed by 4 possible answers, a, b, c, and d.Each of these questions in these lists were assigned to the corresponding \"prompt\" input in my classes. Questions in quiz_prompts were assigned to the FirstQuiz class, and the questions in bonus_prompts belonged to the BonusTime prompt. The right answer for each question was stored as a string, and housed in the \"answer\" input, again to their corresponding class, either FirstQuiz, or BonusTime.\n",
    "\n",
    "In the end, the \"start_quiz\" function will run with the lists inserted below as its input. It will then loop through the questions, starting the quiz, and continuing on to the Bonus Round if you chose to! I hope you find the quizzes to be funny and fun to fill out."
   ]
  },
  {
   "cell_type": "markdown",
   "metadata": {},
   "source": [
    "## Project Code\n",
    "\n",
    "If it makes sense for your project, you can have code and outputs here in the notebook as well."
   ]
  },
  {
   "cell_type": "code",
   "execution_count": null,
   "metadata": {},
   "outputs": [],
   "source": [
    "from my_module.classes import FirstQuiz\n",
    "from my_module.classes import BonusTime\n",
    "from my_module.functions import start_quiz\n",
    "from my_module.functions import continue_on\n",
    "from my_module.functions import start_bonus\n",
    "from my_module.functions import time_is_up"
   ]
  },
  {
   "cell_type": "code",
   "execution_count": null,
   "metadata": {},
   "outputs": [],
   "source": [
    "# A list with ten indexes, 0-9.\n",
    "# Each index is a string that takes the form of a question. Accompanied by 4 answer choices, labled a, b, c, and d.\n",
    "quiz_prompts = [\"1. With great ____ comes great responsibility.\\n(a) concentration\\n(b) power\\n(c) ambition\\n(d) dedication\\n\\n\",\n",
    "                \"2. Harry, did you put your name in the ____ of Fire?!\\n(a) Chamber\\n(b) Quidditch\\n(c) Goblet\\n(d) Azkaban\\n\\n\",\n",
    "                \"3. Sincerely yours, the ____ Club\\n(a) Fight\\n(b) Homework\\n(c) Breakfast\\n(d) Babysitters\\n\\n\",\n",
    "                \"4. Elementary my dear ____.\\n(a) Harry\\n(b) Frodo\\n(c) Watson\\n(d) Luke\\n\\n\",\n",
    "                \"5. Nobody expects the ____ Inquisition.\\n(a) Columbian\\n(b) Spanish\\n(c) Cuban\\n(d) American\\n\\n\",\n",
    "                \"6. Nobody puts ____ in a corner.\\n(a) Baby\\n(b) David\\n(c) Sam\\n(d) Hailey\\n\\n\",\n",
    "                \"7. That's my secret Captain: I'm always ____.\\n(a) hungry\\n(b) angry\\n(c) sleepy\\n(d) laughing\\n\\n\",\n",
    "                \"8. Toto, I've a feeling we're not in ____ anymore.\\n(a) Canada\\n(b) Kansas\\n(c) Tokyo\\n(d) Mississippi\\n\\n\",\n",
    "                \"9. You have ____ me, body and soul.\\n(a) enchanted\\n(b) changed\\n(c) bettered\\n(d) bewitched\\n\\n\",\n",
    "                \"10. One does not simply ____ into Mordor.\\n(a) run\\n(b) meander\\n(c) walk\\n(d) get\\n\\n\"]\n",
    "\n",
    "# Calling FirstQuiz class to assign a specific string index as its question and answer.\n",
    "questions = [FirstQuiz(quiz_prompts[0], \"b\"),\n",
    "             FirstQuiz(quiz_prompts[1], \"c\"),\n",
    "             FirstQuiz(quiz_prompts[2], \"c\"),\n",
    "             FirstQuiz(quiz_prompts[3], \"c\"),\n",
    "             FirstQuiz(quiz_prompts[4], \"b\"),\n",
    "             FirstQuiz(quiz_prompts[5], \"a\"),\n",
    "             FirstQuiz(quiz_prompts[6], \"b\"),\n",
    "             FirstQuiz(quiz_prompts[7], \"b\"),\n",
    "             FirstQuiz(quiz_prompts[8], \"d\"),\n",
    "             FirstQuiz(quiz_prompts[9], \"c\")]\n",
    "\n",
    "# New list with ten indexes, 0-9.\n",
    "# Each index is a string that takes the form of a question. Accompanied by 4 answer choices, labled a, b, c, and d.\n",
    "bonus_prompts = [\"1. Is - 'With great power comes great responsibility.' from\\n(a) Spiderman\\n(b) The Hulk\\n(c) Thor\\n(d) Batman\\n\\n\",\n",
    "                 \"2. Is - 'Harry, did you put your name in the Goblet of Fire?!' from\\n(a) Star Wars\\n(b) Divergent\\n(c) Harry Potter\\n(d) The Avengers\\n\\n\",\n",
    "                 \"3. Is - 'Sincerely yours, the Breakfast Club.' from\\n(a) 16 Candles\\n(b) Fight Club\\n(c) Breakfast Club\\n(d) Clueless\\n\\n\",\n",
    "                 \"4. Is - 'Elementary my dear Watson.' from\\n(a) Sherlock\\n(b) Clue\\n(c) Scooby Doo\\n(d) The Ring\\n\\n\",\n",
    "                 \"5. Is - 'Nobody expects the Spanish Inquisition!' from\\n(a) Monty Python\\n(b) Superbad\\n(c) Dodgeball\\n(d) Napoleon Dynamite\\n\\n\",\n",
    "                 \"6. Is - 'Nobody puts Baby in a corner.' from\\n(a) Clueless\\n(b) Dirty Dancing\\n(c) Footloose\\n(d) Grease\\n\\n\",\n",
    "                 \"7. Is - 'That's my secret Captain: I'm always angry.' from\\n(a) The Avengers\\n(b) Superman\\n(c) The Hulk\\n(d) Captain America\\n\\n\",\n",
    "                 \"8. Is - 'Toto, I've a feeling we're not in Kansas anymore.' from\\n(a) Wicked\\n(b) The Wizard of Oz\\n(c) Marry Poppins\\n(d) Casablanca\\n\\n\",\n",
    "                 \"9. Is - 'You have bewitched me, body and soul.' from\\n(a) Becoming Jane\\n(b) Sense and Sensibility\\n(c) Pride and Prejudice\\n(d) Scent of a Woman\\n\\n\",\n",
    "                 \"10. Is - 'One does not simply walk into Mordor.' from\\n(a) The Hobbit\\n(b) Lord of the Rings\\n(c) Merlin\\n(d) Braveheart\\n\\n\"]\n",
    "\n",
    "# Calling BonusTime class to assign a specific string index as its question and answer.\n",
    "questions_2 = [BonusTime(bonus_prompts[0], \"a\"),\n",
    "               BonusTime(bonus_prompts[1], \"c\"),\n",
    "               BonusTime(bonus_prompts[2], \"c\"),\n",
    "               BonusTime(bonus_prompts[3], \"a\"),\n",
    "               BonusTime(bonus_prompts[4], \"a\"),\n",
    "               BonusTime(bonus_prompts[5], \"b\"),\n",
    "               BonusTime(bonus_prompts[6], \"a\"),\n",
    "               BonusTime(bonus_prompts[7], \"b\"),\n",
    "               BonusTime(bonus_prompts[8], \"c\"),\n",
    "               BonusTime(bonus_prompts[9], \"b\")]"
   ]
  },
  {
   "cell_type": "code",
   "execution_count": null,
   "metadata": {},
   "outputs": [],
   "source": [
    "start_quiz(questions)\n",
    "to_continue = continue_on()\n",
    "\n",
    "if to_continue == True:\n",
    "    start_bonus(questions_2)"
   ]
  },
  {
   "cell_type": "markdown",
   "metadata": {},
   "source": [
    "#### Extra Credit (*optional*)\n",
    "\n",
    "1. Before this class I had absolutely no coding experience. The only thing I knew about coding was that there was multiple languages that you could code in, and that Python got its name from the movie Monty Python.\n",
    "2. I challenged myself to learn how to implement the timer function for my project and how to work with it. I had the hardest time trying to get my quiz to end when the timer ended. There were multiple times where I would fix one issue, but then another one would arrise or a different fixed issue would stop working. It was frustrating. My project also used 4 functions, and 2 minimal classes, while also needing to import time and Threading, and learning how to use global.\n",
    "\n",
    "Thank you so much for a wonderful quarter! I feel like I've learned a lot. Though coding was difficult, I hope I continue to code past these 11 weeks."
   ]
  }
 ],
 "metadata": {
  "kernelspec": {
   "display_name": "Python 3",
   "language": "python",
   "name": "python3"
  },
  "language_info": {
   "codemirror_mode": {
    "name": "ipython",
    "version": 3
   },
   "file_extension": ".py",
   "mimetype": "text/x-python",
   "name": "python",
   "nbconvert_exporter": "python",
   "pygments_lexer": "ipython3",
   "version": "3.8.6"
  }
 },
 "nbformat": 4,
 "nbformat_minor": 2
}
